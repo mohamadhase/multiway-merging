{
 "cells": [
  {
   "cell_type": "code",
   "execution_count": 7,
   "metadata": {},
   "outputs": [],
   "source": [
    "from itertools import permutations\n",
    "import string\n",
    "numbers =list(range(1,1001))\n",
    "docs = [f'd{number}' for number in numbers]\n",
    "terms = [f'term{number}' for number in numbers]\n",
    "with open('data/data1.csv','w') as f:\n",
    "    f.write(\"term,count,\\n\")\n",
    "\n",
    "    for term in terms:\n",
    "        f.write(f\"{term},{len(docs)}\")\n",
    "        for doc in docs :\n",
    "            f.write(f\",{doc}\")\n",
    "        f.write(\"\\n\")\n",
    "        "
   ]
  },
  {
   "cell_type": "code",
   "execution_count": 9,
   "metadata": {},
   "outputs": [],
   "source": [
    "numbers =list(range(1,1001))\n",
    "numbers2 =list(range(1001,2001))\n",
    "docs = [f'd{number}' for number in numbers2]\n",
    "terms = [f'term{number}' for number in numbers]\n",
    "with open('data/data2.csv','w') as f:\n",
    "    f.write(\"term,count,\\n\")\n",
    "\n",
    "    for term in terms:\n",
    "        f.write(f\"{term},{len(docs)}\")\n",
    "        for doc in docs :\n",
    "            f.write(f\",{doc}\")\n",
    "        f.write(\"\\n\")\n",
    "        "
   ]
  }
 ],
 "metadata": {
  "kernelspec": {
   "display_name": "Python 3.8.8 64-bit",
   "language": "python",
   "name": "python3"
  },
  "language_info": {
   "codemirror_mode": {
    "name": "ipython",
    "version": 3
   },
   "file_extension": ".py",
   "mimetype": "text/x-python",
   "name": "python",
   "nbconvert_exporter": "python",
   "pygments_lexer": "ipython3",
   "version": "3.8.8"
  },
  "orig_nbformat": 4,
  "vscode": {
   "interpreter": {
    "hash": "e1e50afc35c5bf48b6480db009e29dffe9b3dc8b7d11ef5d69051a76ab35e225"
   }
  }
 },
 "nbformat": 4,
 "nbformat_minor": 2
}
