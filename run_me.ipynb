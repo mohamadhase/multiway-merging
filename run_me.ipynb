{
 "cells": [
  {
   "cell_type": "markdown",
   "metadata": {},
   "source": [
    "**Run this cell once to generate the data for testing the Multi-Merge algorithm**"
   ]
  },
  {
   "cell_type": "code",
   "execution_count": 1,
   "metadata": {},
   "outputs": [],
   "source": [
    "from json import load\n",
    "import os\n",
    "os.system(\"cmd /c mkdir data\")\n",
    "filename = 'make_data.ipynb'\n",
    "with open(filename) as fp:\n",
    "    nb = load(fp)\n",
    "for cell in nb['cells']:\n",
    "    if cell['cell_type'] == 'code':\n",
    "        source = ''.join(line for line in cell['source'] if not line.startswith('%'))\n",
    "        exec(source, globals(), locals())"
   ]
  },
  {
   "cell_type": "markdown",
   "metadata": {},
   "source": [
    "**Run this cell to Run  each verion of the Code**"
   ]
  },
  {
   "cell_type": "code",
   "execution_count": 2,
   "metadata": {},
   "outputs": [
    {
     "data": {
      "text/plain": [
       "0"
      ]
     },
     "execution_count": 2,
     "metadata": {},
     "output_type": "execute_result"
    }
   ],
   "source": [
    "import os\n",
    "os.system('cmd /c python ./Merge1/run.py out > ./output/withoutThreding.txt\"') #run the first verion (without threading)\n",
    "os.system('cmd /c python ./Merge2.0/run.py out > ./output/withThreding.txt\"') #run the secound verion (with threading)"
   ]
  },
  {
   "cell_type": "markdown",
   "metadata": {},
   "source": [
    "**Run this cell to get the execution time for each verion and compare them**"
   ]
  },
  {
   "cell_type": "code",
   "execution_count": 3,
   "metadata": {},
   "outputs": [
    {
     "name": "stdout",
     "output_type": "stream",
     "text": [
      "Time without Threading is 1.2361223697662354\n",
      "Time with Threading is 1.248642921447754\n",
      "with threading take time :0.012520551681518555 more than without threading\n"
     ]
    }
   ],
   "source": [
    "time_without_threding = 0\n",
    "time_with_threding = 0\n",
    "with open(\"output/withoutThreding.txt\") as f :\n",
    "    time_without_threding = float(f.read().strip())\n",
    "with open(\"output/withThreding.txt\") as f :\n",
    "    time_with_threding = float(f.read().strip())\n",
    "print(f\"Time without Threading is {time_without_threding}\")\n",
    "print(f\"Time with Threading is {time_with_threding}\")\n",
    "if time_without_threding < time_with_threding:\n",
    "    print(f\"with threading take time :{time_with_threding-time_without_threding} more than without threading\")\n",
    "else :\n",
    "    print(f\"without threading take time :{time_without_threding-time_with_threding} more than with threading\")\n"
   ]
  }
 ],
 "metadata": {
  "kernelspec": {
   "display_name": "Python 3.8.8 64-bit",
   "language": "python",
   "name": "python3"
  },
  "language_info": {
   "codemirror_mode": {
    "name": "ipython",
    "version": 3
   },
   "file_extension": ".py",
   "mimetype": "text/x-python",
   "name": "python",
   "nbconvert_exporter": "python",
   "pygments_lexer": "ipython3",
   "version": "3.8.8"
  },
  "orig_nbformat": 4,
  "vscode": {
   "interpreter": {
    "hash": "e1e50afc35c5bf48b6480db009e29dffe9b3dc8b7d11ef5d69051a76ab35e225"
   }
  }
 },
 "nbformat": 4,
 "nbformat_minor": 2
}
