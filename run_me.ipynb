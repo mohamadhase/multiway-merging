{
 "cells": [
  {
   "cell_type": "markdown",
   "metadata": {},
   "source": [
    "**Run this cell once to generate the data for testing the Multi-Merge algorithm**"
   ]
  },
  {
   "cell_type": "code",
   "execution_count": 13,
   "metadata": {},
   "outputs": [],
   "source": [
    "from json import load\n",
    "import os\n",
    "os.system(\"cmd /c mkdir data\")\n",
    "filename = 'make_data.ipynb'\n",
    "with open(filename) as fp:\n",
    "    nb = load(fp)\n",
    "for cell in nb['cells']:\n",
    "    if cell['cell_type'] == 'code':\n",
    "        source = ''.join(line for line in cell['source'] if not line.startswith('%'))\n",
    "        exec(source, globals(), locals())"
   ]
  },
  {
   "cell_type": "markdown",
   "metadata": {},
   "source": [
    "**Run this cell once to generate the data for testing the Multi-Merge algorithm**\n"
   ]
  },
  {
   "cell_type": "code",
   "execution_count": 14,
   "metadata": {},
   "outputs": [
    {
     "data": {
      "text/plain": [
       "0"
      ]
     },
     "execution_count": 14,
     "metadata": {},
     "output_type": "execute_result"
    }
   ],
   "source": [
    "import os\n",
    "os.system('cmd /c python ./Merge1/run.py out > ./output/withoutThreding.txt\"') #run the first verion (without threading)\n",
    "os.system('cmd /c python ./Merge2.0/run.py out > ./output/withThreding.txt\"') #run the secound verion (with threading)"
   ]
  },
  {
   "cell_type": "markdown",
   "metadata": {},
   "source": [
    "**Run this cell to get the execution time for each verion and compare them**"
   ]
  },
  {
   "cell_type": "code",
   "execution_count": 15,
   "metadata": {},
   "outputs": [
    {
     "name": "stdout",
     "output_type": "stream",
     "text": [
      "Time without Threading is 1.7899196147918701\n",
      "Time with Threading is 1.7625806331634521\n",
      "without threading take time :0.02733898162841797 more than with threading\n"
     ]
    }
   ],
   "source": [
    "time_without_threding = 0\n",
    "time_with_threding = 0\n",
    "with open(\"output/withoutThreding.txt\") as f :\n",
    "    time_without_threding = float(f.read().strip())\n",
    "with open(\"output/withThreding.txt\") as f :\n",
    "    time_with_threding = float(f.read().strip())\n",
    "print(f\"Time without Threading is {time_without_threding}\")\n",
    "print(f\"Time with Threading is {time_with_threding}\")\n",
    "if time_without_threding < time_with_threding:\n",
    "    print(f\"with threading take time :{time_with_threding-time_without_threding} more than without threading\")\n",
    "else :\n",
    "    print(f\"without threading take time :{time_without_threding-time_with_threding} more than with threading\")\n"
   ]
  }
 ],
 "metadata": {
  "kernelspec": {
   "display_name": "Python 3.9.12 ('base')",
   "language": "python",
   "name": "python3"
  },
  "language_info": {
   "codemirror_mode": {
    "name": "ipython",
    "version": 3
   },
   "file_extension": ".py",
   "mimetype": "text/x-python",
   "name": "python",
   "nbconvert_exporter": "python",
   "pygments_lexer": "ipython3",
   "version": "3.9.12"
  },
  "orig_nbformat": 4,
  "vscode": {
   "interpreter": {
    "hash": "c472abe404167b274392ab2bc821e1f406af8c8e78ee20f357d80920c8e08d7b"
   }
  }
 },
 "nbformat": 4,
 "nbformat_minor": 2
}
